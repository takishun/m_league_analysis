{
 "cells": [
  {
   "cell_type": "code",
   "execution_count": 35,
   "id": "6e22262d",
   "metadata": {},
   "outputs": [
    {
     "data": {
      "text/html": [
       "\n",
       "<button id=\"code-show-switch-btn\">スクリプトを非表示にする</button>\n",
       "\n",
       "<script>\n",
       "var code_show = true;\n",
       "\n",
       "function switch_display_setting() {\n",
       "    var switch_btn = $(\"#code-show-switch-btn\");\n",
       "    if (code_show) {\n",
       "        $(\"div.input\").hide();\n",
       "        code_show = false;\n",
       "        switch_btn.text(\"Mリーグデータレポート\");\n",
       "    }else {\n",
       "        $(\"div.input\").show();\n",
       "        code_show = true;\n",
       "        switch_btn.text(\"スクリプトを非表示にする\");\n",
       "    }\n",
       "}\n",
       "\n",
       "$(\"#code-show-switch-btn\").click(switch_display_setting);\n",
       "</script>\n"
      ],
      "text/plain": [
       "<IPython.core.display.HTML object>"
      ]
     },
     "execution_count": 35,
     "metadata": {},
     "output_type": "execute_result"
    }
   ],
   "source": [
    "from IPython.display import HTML\n",
    "\n",
    "HTML(\"\"\"\n",
    "<button id=\"code-show-switch-btn\">スクリプトを非表示にする</button>\n",
    "\n",
    "<script>\n",
    "var code_show = true;\n",
    "\n",
    "function switch_display_setting() {\n",
    "    var switch_btn = $(\"#code-show-switch-btn\");\n",
    "    if (code_show) {\n",
    "        $(\"div.input\").hide();\n",
    "        code_show = false;\n",
    "        switch_btn.text(\"Mリーグデータレポート\");\n",
    "    }else {\n",
    "        $(\"div.input\").show();\n",
    "        code_show = true;\n",
    "        switch_btn.text(\"スクリプトを非表示にする\");\n",
    "    }\n",
    "}\n",
    "\n",
    "$(\"#code-show-switch-btn\").click(switch_display_setting);\n",
    "</script>\n",
    "\"\"\")"
   ]
  },
  {
   "cell_type": "markdown",
   "id": "8588b98b",
   "metadata": {},
   "source": [
    "# Mリーグデータレポート"
   ]
  },
  {
   "cell_type": "code",
   "execution_count": 4,
   "id": "8b688f1b",
   "metadata": {},
   "outputs": [],
   "source": [
    "import pandas as pd\n",
    "import datetime\n",
    "import matplotlib.pyplot as plt\n",
    "import seaborn as sns\n",
    "%matplotlib inline\n",
    "\n",
    "lists = pd.read_html('https://m-league.jp/stats')\n",
    "img_dir = 'image'\n",
    "df = pd.DataFrame()\n",
    "\n",
    "teams = ['drivens','EX','sakura','konami','abemas','sega_summy','raiden','u-next']\n",
    "teams_semi = ['EX','sakura','konami','abemas','sega_summy','u-next']\n",
    "teams_final = ['sakura','konami','abemas','sega_summy']\n",
    "j = 0\n",
    "\n",
    "for i in lists:\n",
    "    data = i\n",
    "    data = data.T\n",
    "    data.columns = data.iloc[0]\n",
    "    data = data[1:]\n",
    "    data['チーム'] = teams[j]\n",
    "    j+=1\n",
    "    df = pd.concat([df,data])\n",
    "df.to_csv('data/MLeague_stats' + datetime.date.today().strftime('%Y-%m-%d') + '.csv')\n",
    "df.to_csv('data/MLeague_stats.csv')"
   ]
  },
  {
   "cell_type": "markdown",
   "id": "eae4e3ef",
   "metadata": {},
   "source": [
    "# 概要\n",
    "Mリーグ２０２１はサクラナイツが愁傷しました。  \n",
    "沢崎選手が離脱する中、チームの結束をより強めて優勝を勝ち取りました。  \n",
    "堀選手が7試合の出場と４チームの中でも最多で安定した成績でポイントを守り切りました。  \n",
    "最終戦まで本当にどこが勝つかわからない、今までにない大接戦でした。  \n",
    "ファイナルシーズンの12試合はどのような成績だったかデータをまとめます。  \n",
    "本記事はファイナルシーズンのみの試合成績のデータをまとめた数値となります。  \n"
   ]
  },
  {
   "cell_type": "markdown",
   "id": "7bd6e4cb",
   "metadata": {},
   "source": [
    "# 目次:\n",
    "* [1. Mリーガ成績表](#1)\n",
    "* [2.試合数](#2)\n",
    "* [3.チーム順位 ](#3)\n",
    "* [4.ベストスコア](#4)\n",
    "* [5.順位回数](#5)\n",
    "* [6.アガリ率とトップ率](#6)\n",
    "* [7.平均打点と放銃平均打点](#7)\n",
    "* [8.さいごに](#8)"
   ]
  },
  {
   "cell_type": "code",
   "execution_count": 38,
   "id": "7811e52c",
   "metadata": {},
   "outputs": [
    {
     "name": "stdout",
     "output_type": "stream",
     "text": [
      "データ取得日：2022/04/29\n"
     ]
    }
   ],
   "source": [
    "print('データ取得日：'+ datetime.date.today().strftime('%Y/%m/%d'))"
   ]
  },
  {
   "cell_type": "markdown",
   "id": "baadb0ee",
   "metadata": {},
   "source": [
    "# 1. Mリーガ成績表 <a class=\"anchor\" id=\"1\"></a>\n",
    "堀選手がファイナル１２戦中7試合の出場でポイントも52.1ポイントを稼いでトップになります。  \n",
    "しかし、２位は白鳥選手で51.6ポイントとわずか0.5ポイント。  \n",
    "意外にも最下位は多井選手の-89.0ポイント。  \n",
    "ファイナルの成績は全１２戦で一人３試合程度の出場ですから、だいぶブレが大きくなります。  \n",
    "しかし、その短期決戦で本来の実力がしっかり出ることが少ないながらも勝たなければならない難しさがあります。  \n",
    "今回は堀選手が沢崎選手分も出て7試合の出場となりました。  \n",
    "安定した成績で優勝に導きました。  \n",
    "まさに主演堀！助演堀！監督堀！"
   ]
  },
  {
   "cell_type": "code",
   "execution_count": 39,
   "id": "590b23aa",
   "metadata": {
    "scrolled": false
   },
   "outputs": [
    {
     "data": {
      "text/html": [
       "<div>\n",
       "<style scoped>\n",
       "    .dataframe tbody tr th:only-of-type {\n",
       "        vertical-align: middle;\n",
       "    }\n",
       "\n",
       "    .dataframe tbody tr th {\n",
       "        vertical-align: top;\n",
       "    }\n",
       "\n",
       "    .dataframe thead th {\n",
       "        text-align: right;\n",
       "    }\n",
       "</style>\n",
       "<table border=\"1\" class=\"dataframe\">\n",
       "  <thead>\n",
       "    <tr style=\"text-align: right;\">\n",
       "      <th>選手名</th>\n",
       "      <th>試合数</th>\n",
       "      <th>総局数</th>\n",
       "      <th>ポイント</th>\n",
       "      <th>平着</th>\n",
       "      <th>1位</th>\n",
       "      <th>2位</th>\n",
       "      <th>3位</th>\n",
       "      <th>4位</th>\n",
       "      <th>トップ率</th>\n",
       "      <th>連対率</th>\n",
       "      <th>ラス回避率</th>\n",
       "      <th>ベストスコア</th>\n",
       "      <th>平均打点</th>\n",
       "      <th>副露率</th>\n",
       "      <th>リーチ率</th>\n",
       "      <th>アガリ率</th>\n",
       "      <th>放銃率</th>\n",
       "      <th>放銃平均打点</th>\n",
       "      <th>チーム</th>\n",
       "    </tr>\n",
       "  </thead>\n",
       "  <tbody>\n",
       "    <tr>\n",
       "      <th>堀 慎吾</th>\n",
       "      <td>7.0</td>\n",
       "      <td>92.0</td>\n",
       "      <td>52.1</td>\n",
       "      <td>2.28</td>\n",
       "      <td>2.0</td>\n",
       "      <td>2.0</td>\n",
       "      <td>2.0</td>\n",
       "      <td>1.0</td>\n",
       "      <td>0.28</td>\n",
       "      <td>0.57</td>\n",
       "      <td>0.85</td>\n",
       "      <td>47000.0</td>\n",
       "      <td>7137.5</td>\n",
       "      <td>0.16</td>\n",
       "      <td>0.2</td>\n",
       "      <td>0.17</td>\n",
       "      <td>0.04</td>\n",
       "      <td>6700.0</td>\n",
       "      <td>sakura</td>\n",
       "    </tr>\n",
       "    <tr>\n",
       "      <th>白鳥 翔</th>\n",
       "      <td>3.0</td>\n",
       "      <td>36.0</td>\n",
       "      <td>51.6</td>\n",
       "      <td>2.0</td>\n",
       "      <td>1.0</td>\n",
       "      <td>1.0</td>\n",
       "      <td>1.0</td>\n",
       "      <td>0.0</td>\n",
       "      <td>0.33</td>\n",
       "      <td>0.66</td>\n",
       "      <td>1.0</td>\n",
       "      <td>51400.0</td>\n",
       "      <td>7337.5</td>\n",
       "      <td>0.19</td>\n",
       "      <td>0.25</td>\n",
       "      <td>0.22</td>\n",
       "      <td>0.05</td>\n",
       "      <td>4750.0</td>\n",
       "      <td>abemas</td>\n",
       "    </tr>\n",
       "    <tr>\n",
       "      <th>日向 藍子</th>\n",
       "      <td>2.0</td>\n",
       "      <td>23.0</td>\n",
       "      <td>37.6</td>\n",
       "      <td>2.0</td>\n",
       "      <td>1.0</td>\n",
       "      <td>0.0</td>\n",
       "      <td>1.0</td>\n",
       "      <td>0.0</td>\n",
       "      <td>0.5</td>\n",
       "      <td>0.5</td>\n",
       "      <td>1.0</td>\n",
       "      <td>37500.0</td>\n",
       "      <td>7266.66</td>\n",
       "      <td>0.13</td>\n",
       "      <td>0.04</td>\n",
       "      <td>0.13</td>\n",
       "      <td>0.08</td>\n",
       "      <td>1950.0</td>\n",
       "      <td>abemas</td>\n",
       "    </tr>\n",
       "    <tr>\n",
       "      <th>魚谷 侑未</th>\n",
       "      <td>3.0</td>\n",
       "      <td>39.0</td>\n",
       "      <td>32.3</td>\n",
       "      <td>2.0</td>\n",
       "      <td>1.0</td>\n",
       "      <td>1.0</td>\n",
       "      <td>1.0</td>\n",
       "      <td>0.0</td>\n",
       "      <td>0.33</td>\n",
       "      <td>0.66</td>\n",
       "      <td>1.0</td>\n",
       "      <td>36100.0</td>\n",
       "      <td>7562.5</td>\n",
       "      <td>0.28</td>\n",
       "      <td>0.23</td>\n",
       "      <td>0.2</td>\n",
       "      <td>0.2</td>\n",
       "      <td>4662.5</td>\n",
       "      <td>sega_summy</td>\n",
       "    </tr>\n",
       "    <tr>\n",
       "      <th>近藤 誠一</th>\n",
       "      <td>5.0</td>\n",
       "      <td>63.0</td>\n",
       "      <td>31.6</td>\n",
       "      <td>2.4</td>\n",
       "      <td>1.0</td>\n",
       "      <td>2.0</td>\n",
       "      <td>1.0</td>\n",
       "      <td>1.0</td>\n",
       "      <td>0.2</td>\n",
       "      <td>0.6</td>\n",
       "      <td>0.8</td>\n",
       "      <td>58300.0</td>\n",
       "      <td>6190.9</td>\n",
       "      <td>0.15</td>\n",
       "      <td>0.31</td>\n",
       "      <td>0.17</td>\n",
       "      <td>0.04</td>\n",
       "      <td>4400.0</td>\n",
       "      <td>sega_summy</td>\n",
       "    </tr>\n",
       "    <tr>\n",
       "      <th>内川 幸太郎</th>\n",
       "      <td>3.0</td>\n",
       "      <td>33.0</td>\n",
       "      <td>29.3</td>\n",
       "      <td>2.33</td>\n",
       "      <td>1.0</td>\n",
       "      <td>0.0</td>\n",
       "      <td>2.0</td>\n",
       "      <td>0.0</td>\n",
       "      <td>0.33</td>\n",
       "      <td>0.33</td>\n",
       "      <td>1.0</td>\n",
       "      <td>45400.0</td>\n",
       "      <td>4120.0</td>\n",
       "      <td>0.24</td>\n",
       "      <td>0.24</td>\n",
       "      <td>0.15</td>\n",
       "      <td>0.0</td>\n",
       "      <td>0.0</td>\n",
       "      <td>sakura</td>\n",
       "    </tr>\n",
       "    <tr>\n",
       "      <th>伊達 朱里紗</th>\n",
       "      <td>3.0</td>\n",
       "      <td>35.0</td>\n",
       "      <td>15.8</td>\n",
       "      <td>2.33</td>\n",
       "      <td>1.0</td>\n",
       "      <td>1.0</td>\n",
       "      <td>0.0</td>\n",
       "      <td>1.0</td>\n",
       "      <td>0.33</td>\n",
       "      <td>0.66</td>\n",
       "      <td>0.66</td>\n",
       "      <td>40900.0</td>\n",
       "      <td>7366.66</td>\n",
       "      <td>0.17</td>\n",
       "      <td>0.22</td>\n",
       "      <td>0.17</td>\n",
       "      <td>0.08</td>\n",
       "      <td>10666.66</td>\n",
       "      <td>konami</td>\n",
       "    </tr>\n",
       "    <tr>\n",
       "      <th>茅森 早香</th>\n",
       "      <td>2.0</td>\n",
       "      <td>24.0</td>\n",
       "      <td>14.7</td>\n",
       "      <td>2.25</td>\n",
       "      <td>0.0</td>\n",
       "      <td>1.0</td>\n",
       "      <td>1.0</td>\n",
       "      <td>0.0</td>\n",
       "      <td>0.0</td>\n",
       "      <td>0.5</td>\n",
       "      <td>1.0</td>\n",
       "      <td>41100.0</td>\n",
       "      <td>7480.0</td>\n",
       "      <td>0.25</td>\n",
       "      <td>0.2</td>\n",
       "      <td>0.2</td>\n",
       "      <td>0.04</td>\n",
       "      <td>5200.0</td>\n",
       "      <td>sega_summy</td>\n",
       "    </tr>\n",
       "    <tr>\n",
       "      <th>東城 りお</th>\n",
       "      <td>2.0</td>\n",
       "      <td>24.0</td>\n",
       "      <td>2.9</td>\n",
       "      <td>2.5</td>\n",
       "      <td>1.0</td>\n",
       "      <td>0.0</td>\n",
       "      <td>0.0</td>\n",
       "      <td>1.0</td>\n",
       "      <td>0.5</td>\n",
       "      <td>0.5</td>\n",
       "      <td>0.5</td>\n",
       "      <td>34100.0</td>\n",
       "      <td>6380.0</td>\n",
       "      <td>0.16</td>\n",
       "      <td>0.33</td>\n",
       "      <td>0.2</td>\n",
       "      <td>0.12</td>\n",
       "      <td>10666.66</td>\n",
       "      <td>sega_summy</td>\n",
       "    </tr>\n",
       "    <tr>\n",
       "      <th>沢崎 誠</th>\n",
       "      <td>0</td>\n",
       "      <td>0</td>\n",
       "      <td>0</td>\n",
       "      <td>0</td>\n",
       "      <td>0</td>\n",
       "      <td>0</td>\n",
       "      <td>0</td>\n",
       "      <td>0</td>\n",
       "      <td>0</td>\n",
       "      <td>0</td>\n",
       "      <td>0</td>\n",
       "      <td>0</td>\n",
       "      <td>0</td>\n",
       "      <td>0</td>\n",
       "      <td>0</td>\n",
       "      <td>0</td>\n",
       "      <td>0</td>\n",
       "      <td>0</td>\n",
       "      <td>sakura</td>\n",
       "    </tr>\n",
       "    <tr>\n",
       "      <th>岡田 紗佳</th>\n",
       "      <td>2.0</td>\n",
       "      <td>25.0</td>\n",
       "      <td>-3.7</td>\n",
       "      <td>2.5</td>\n",
       "      <td>0.0</td>\n",
       "      <td>1.0</td>\n",
       "      <td>1.0</td>\n",
       "      <td>0.0</td>\n",
       "      <td>0.0</td>\n",
       "      <td>0.5</td>\n",
       "      <td>1.0</td>\n",
       "      <td>32500.0</td>\n",
       "      <td>4866.66</td>\n",
       "      <td>0.16</td>\n",
       "      <td>0.2</td>\n",
       "      <td>0.24</td>\n",
       "      <td>0.04</td>\n",
       "      <td>8000.0</td>\n",
       "      <td>sakura</td>\n",
       "    </tr>\n",
       "    <tr>\n",
       "      <th>松本 吉弘</th>\n",
       "      <td>3.0</td>\n",
       "      <td>33.0</td>\n",
       "      <td>-8.0</td>\n",
       "      <td>2.5</td>\n",
       "      <td>0.0</td>\n",
       "      <td>1.0</td>\n",
       "      <td>2.0</td>\n",
       "      <td>0.0</td>\n",
       "      <td>0.0</td>\n",
       "      <td>0.33</td>\n",
       "      <td>1.0</td>\n",
       "      <td>43500.0</td>\n",
       "      <td>5060.0</td>\n",
       "      <td>0.3</td>\n",
       "      <td>0.15</td>\n",
       "      <td>0.15</td>\n",
       "      <td>0.06</td>\n",
       "      <td>4500.0</td>\n",
       "      <td>abemas</td>\n",
       "    </tr>\n",
       "    <tr>\n",
       "      <th>高宮 まり</th>\n",
       "      <td>3.0</td>\n",
       "      <td>31.0</td>\n",
       "      <td>-32.5</td>\n",
       "      <td>3.0</td>\n",
       "      <td>1.0</td>\n",
       "      <td>0.0</td>\n",
       "      <td>0.0</td>\n",
       "      <td>2.0</td>\n",
       "      <td>0.33</td>\n",
       "      <td>0.33</td>\n",
       "      <td>0.33</td>\n",
       "      <td>47100.0</td>\n",
       "      <td>5783.33</td>\n",
       "      <td>0.22</td>\n",
       "      <td>0.35</td>\n",
       "      <td>0.19</td>\n",
       "      <td>0.19</td>\n",
       "      <td>5533.33</td>\n",
       "      <td>konami</td>\n",
       "    </tr>\n",
       "    <tr>\n",
       "      <th>滝沢 和典</th>\n",
       "      <td>3.0</td>\n",
       "      <td>42.0</td>\n",
       "      <td>-59.6</td>\n",
       "      <td>3.0</td>\n",
       "      <td>1.0</td>\n",
       "      <td>0.0</td>\n",
       "      <td>0.0</td>\n",
       "      <td>2.0</td>\n",
       "      <td>0.33</td>\n",
       "      <td>0.33</td>\n",
       "      <td>0.33</td>\n",
       "      <td>40100.0</td>\n",
       "      <td>10200.0</td>\n",
       "      <td>0.11</td>\n",
       "      <td>0.14</td>\n",
       "      <td>0.09</td>\n",
       "      <td>0.19</td>\n",
       "      <td>3962.5</td>\n",
       "      <td>konami</td>\n",
       "    </tr>\n",
       "    <tr>\n",
       "      <th>佐々木 寿人</th>\n",
       "      <td>3.0</td>\n",
       "      <td>42.0</td>\n",
       "      <td>-75.1</td>\n",
       "      <td>3.0</td>\n",
       "      <td>0.0</td>\n",
       "      <td>1.0</td>\n",
       "      <td>1.0</td>\n",
       "      <td>1.0</td>\n",
       "      <td>0.0</td>\n",
       "      <td>0.33</td>\n",
       "      <td>0.66</td>\n",
       "      <td>34000.0</td>\n",
       "      <td>7975.0</td>\n",
       "      <td>0.11</td>\n",
       "      <td>0.26</td>\n",
       "      <td>0.09</td>\n",
       "      <td>0.04</td>\n",
       "      <td>4500.0</td>\n",
       "      <td>konami</td>\n",
       "    </tr>\n",
       "    <tr>\n",
       "      <th>多井 隆晴</th>\n",
       "      <td>4.0</td>\n",
       "      <td>58.0</td>\n",
       "      <td>-89.0</td>\n",
       "      <td>3.25</td>\n",
       "      <td>1.0</td>\n",
       "      <td>0.0</td>\n",
       "      <td>0.0</td>\n",
       "      <td>3.0</td>\n",
       "      <td>0.25</td>\n",
       "      <td>0.25</td>\n",
       "      <td>0.25</td>\n",
       "      <td>40500.0</td>\n",
       "      <td>4681.81</td>\n",
       "      <td>0.31</td>\n",
       "      <td>0.17</td>\n",
       "      <td>0.18</td>\n",
       "      <td>0.08</td>\n",
       "      <td>6540.0</td>\n",
       "      <td>abemas</td>\n",
       "    </tr>\n",
       "  </tbody>\n",
       "</table>\n",
       "</div>"
      ],
      "text/plain": [
       "選手名     試合数   総局数  ポイント    平着   1位   2位   3位   4位  トップ率   連対率 ラス回避率   ベストスコア  \\\n",
       "堀 慎吾    7.0  92.0  52.1  2.28  2.0  2.0  2.0  1.0  0.28  0.57  0.85  47000.0   \n",
       "白鳥 翔    3.0  36.0  51.6   2.0  1.0  1.0  1.0  0.0  0.33  0.66   1.0  51400.0   \n",
       "日向 藍子   2.0  23.0  37.6   2.0  1.0  0.0  1.0  0.0   0.5   0.5   1.0  37500.0   \n",
       "魚谷 侑未   3.0  39.0  32.3   2.0  1.0  1.0  1.0  0.0  0.33  0.66   1.0  36100.0   \n",
       "近藤 誠一   5.0  63.0  31.6   2.4  1.0  2.0  1.0  1.0   0.2   0.6   0.8  58300.0   \n",
       "内川 幸太郎  3.0  33.0  29.3  2.33  1.0  0.0  2.0  0.0  0.33  0.33   1.0  45400.0   \n",
       "伊達 朱里紗  3.0  35.0  15.8  2.33  1.0  1.0  0.0  1.0  0.33  0.66  0.66  40900.0   \n",
       "茅森 早香   2.0  24.0  14.7  2.25  0.0  1.0  1.0  0.0   0.0   0.5   1.0  41100.0   \n",
       "東城 りお   2.0  24.0   2.9   2.5  1.0  0.0  0.0  1.0   0.5   0.5   0.5  34100.0   \n",
       "沢崎 誠      0     0     0     0    0    0    0    0     0     0     0        0   \n",
       "岡田 紗佳   2.0  25.0  -3.7   2.5  0.0  1.0  1.0  0.0   0.0   0.5   1.0  32500.0   \n",
       "松本 吉弘   3.0  33.0  -8.0   2.5  0.0  1.0  2.0  0.0   0.0  0.33   1.0  43500.0   \n",
       "高宮 まり   3.0  31.0 -32.5   3.0  1.0  0.0  0.0  2.0  0.33  0.33  0.33  47100.0   \n",
       "滝沢 和典   3.0  42.0 -59.6   3.0  1.0  0.0  0.0  2.0  0.33  0.33  0.33  40100.0   \n",
       "佐々木 寿人  3.0  42.0 -75.1   3.0  0.0  1.0  1.0  1.0   0.0  0.33  0.66  34000.0   \n",
       "多井 隆晴   4.0  58.0 -89.0  3.25  1.0  0.0  0.0  3.0  0.25  0.25  0.25  40500.0   \n",
       "\n",
       "選手名        平均打点   副露率  リーチ率  アガリ率   放銃率    放銃平均打点         チーム  \n",
       "堀 慎吾     7137.5  0.16   0.2  0.17  0.04    6700.0      sakura  \n",
       "白鳥 翔     7337.5  0.19  0.25  0.22  0.05    4750.0      abemas  \n",
       "日向 藍子   7266.66  0.13  0.04  0.13  0.08    1950.0      abemas  \n",
       "魚谷 侑未    7562.5  0.28  0.23   0.2   0.2    4662.5  sega_summy  \n",
       "近藤 誠一    6190.9  0.15  0.31  0.17  0.04    4400.0  sega_summy  \n",
       "内川 幸太郎   4120.0  0.24  0.24  0.15   0.0       0.0      sakura  \n",
       "伊達 朱里紗  7366.66  0.17  0.22  0.17  0.08  10666.66      konami  \n",
       "茅森 早香    7480.0  0.25   0.2   0.2  0.04    5200.0  sega_summy  \n",
       "東城 りお    6380.0  0.16  0.33   0.2  0.12  10666.66  sega_summy  \n",
       "沢崎 誠          0     0     0     0     0         0      sakura  \n",
       "岡田 紗佳   4866.66  0.16   0.2  0.24  0.04    8000.0      sakura  \n",
       "松本 吉弘    5060.0   0.3  0.15  0.15  0.06    4500.0      abemas  \n",
       "高宮 まり   5783.33  0.22  0.35  0.19  0.19   5533.33      konami  \n",
       "滝沢 和典   10200.0  0.11  0.14  0.09  0.19    3962.5      konami  \n",
       "佐々木 寿人   7975.0  0.11  0.26  0.09  0.04    4500.0      konami  \n",
       "多井 隆晴   4681.81  0.31  0.17  0.18  0.08    6540.0      abemas  "
      ]
     },
     "execution_count": 39,
     "metadata": {},
     "output_type": "execute_result"
    }
   ],
   "source": [
    "df.sort_values('ポイント',ascending=False)"
   ]
  },
  {
   "cell_type": "code",
   "execution_count": 40,
   "id": "00406947",
   "metadata": {},
   "outputs": [
    {
     "data": {
      "image/png": "[encoded data removed]",
      "text/plain": [
       "<Figure size 576x576 with 1 Axes>"
      ]
     },
     "metadata": {
      "needs_background": "light"
     },
     "output_type": "display_data"
    }
   ],
   "source": [
    "df[['ポイント']].sort_values('ポイント',ascending=True).plot(kind='barh',figsize=(8,8),color='g')\n",
    "plt.grid()\n",
    "plt.savefig(img_dir + '/player_point.png')"
   ]
  },
  {
   "cell_type": "markdown",
   "id": "4d87e4fc",
   "metadata": {},
   "source": [
    "# 2. 試合数<a class=\"anchor\" id=\"2\"></a>\n",
    "今シーズンのファイナルは出場数が満遍なく出場しています。  \n",
    "シーズン、セミファイナルの成績やエースにかける起用などありますが、  \n",
    "さまざまな人がファイナルの出場機会があり、この４チームの選手たちは素晴らしい経験をできたのではないでしょういか。  \n",
    "来年の成長が楽しみですね。  "
   ]
  },
  {
   "cell_type": "code",
   "execution_count": 41,
   "id": "594a32be",
   "metadata": {},
   "outputs": [
    {
     "data": {
      "image/png": "[encoded data removed]",
      "text/plain": [
       "<Figure size 576x360 with 1 Axes>"
      ]
     },
     "metadata": {
      "needs_background": "light"
     },
     "output_type": "display_data"
    }
   ],
   "source": [
    "df['試合数'].plot(kind='bar',figsize=(8,5))\n",
    "plt.ylabel('試合数')\n",
    "plt.savefig(img_dir + '/game.png')"
   ]
  },
  {
   "cell_type": "markdown",
   "id": "c54c9f78",
   "metadata": {},
   "source": [
    "# 3.チーム成績 <a class=\"anchor\" id=\"3\"></a>\n",
    "ファイナルシーズンのみのチーム成績はこちらになります。  \n",
    "ファイナルシーズン最もポイントを稼いだのはセガサミーです。  \n",
    "続いてサクラナイツで７７．７ポイント。  \n",
    "ファイナルシーズンはセミファイナルまでの貯金を守った形で最後決まりました。  \n",
    "コナミは４位が重なってしまい、チームカラーのハイリスク・ハイリターンが裏目に出た形です。  \n",
    "全体としては、全チームが3回ずつ1着を取るという大接戦。  \n",
    "決めては3着、4着数となった形です。  \n",
    "サクラナイツが4着を1回のみでポイントを死守しました。  "
   ]
  },
  {
   "cell_type": "code",
   "execution_count": 50,
   "id": "eba46784",
   "metadata": {},
   "outputs": [],
   "source": [
    "mdf = df[['試合数','チーム', '総局数', 'ポイント', '1位', '2位', '3位', '4位']].groupby('チーム').sum()"
   ]
  },
  {
   "cell_type": "code",
   "execution_count": 51,
   "id": "0662d4ae",
   "metadata": {},
   "outputs": [
    {
     "data": {
      "text/html": [
       "<div>\n",
       "<style scoped>\n",
       "    .dataframe tbody tr th:only-of-type {\n",
       "        vertical-align: middle;\n",
       "    }\n",
       "\n",
       "    .dataframe tbody tr th {\n",
       "        vertical-align: top;\n",
       "    }\n",
       "\n",
       "    .dataframe thead th {\n",
       "        text-align: right;\n",
       "    }\n",
       "</style>\n",
       "<table border=\"1\" class=\"dataframe\">\n",
       "  <thead>\n",
       "    <tr style=\"text-align: right;\">\n",
       "      <th>選手名</th>\n",
       "      <th>試合数</th>\n",
       "      <th>総局数</th>\n",
       "      <th>ポイント</th>\n",
       "      <th>1位</th>\n",
       "      <th>2位</th>\n",
       "      <th>3位</th>\n",
       "      <th>4位</th>\n",
       "    </tr>\n",
       "    <tr>\n",
       "      <th>チーム</th>\n",
       "      <th></th>\n",
       "      <th></th>\n",
       "      <th></th>\n",
       "      <th></th>\n",
       "      <th></th>\n",
       "      <th></th>\n",
       "      <th></th>\n",
       "    </tr>\n",
       "  </thead>\n",
       "  <tbody>\n",
       "    <tr>\n",
       "      <th>sega_summy</th>\n",
       "      <td>12.0</td>\n",
       "      <td>150.0</td>\n",
       "      <td>81.5</td>\n",
       "      <td>3.0</td>\n",
       "      <td>4.0</td>\n",
       "      <td>3.0</td>\n",
       "      <td>2.0</td>\n",
       "    </tr>\n",
       "    <tr>\n",
       "      <th>sakura</th>\n",
       "      <td>12.0</td>\n",
       "      <td>150.0</td>\n",
       "      <td>77.7</td>\n",
       "      <td>3.0</td>\n",
       "      <td>3.0</td>\n",
       "      <td>5.0</td>\n",
       "      <td>1.0</td>\n",
       "    </tr>\n",
       "    <tr>\n",
       "      <th>abemas</th>\n",
       "      <td>12.0</td>\n",
       "      <td>150.0</td>\n",
       "      <td>-7.8</td>\n",
       "      <td>3.0</td>\n",
       "      <td>2.0</td>\n",
       "      <td>4.0</td>\n",
       "      <td>3.0</td>\n",
       "    </tr>\n",
       "    <tr>\n",
       "      <th>konami</th>\n",
       "      <td>12.0</td>\n",
       "      <td>150.0</td>\n",
       "      <td>-151.4</td>\n",
       "      <td>3.0</td>\n",
       "      <td>2.0</td>\n",
       "      <td>1.0</td>\n",
       "      <td>6.0</td>\n",
       "    </tr>\n",
       "  </tbody>\n",
       "</table>\n",
       "</div>"
      ],
      "text/plain": [
       "選手名          試合数    総局数   ポイント   1位   2位   3位   4位\n",
       "チーム                                               \n",
       "sega_summy  12.0  150.0   81.5  3.0  4.0  3.0  2.0\n",
       "sakura      12.0  150.0   77.7  3.0  3.0  5.0  1.0\n",
       "abemas      12.0  150.0   -7.8  3.0  2.0  4.0  3.0\n",
       "konami      12.0  150.0 -151.4  3.0  2.0  1.0  6.0"
      ]
     },
     "execution_count": 51,
     "metadata": {},
     "output_type": "execute_result"
    }
   ],
   "source": [
    "mdf[['試合数', '総局数', 'ポイント', '1位', '2位', '3位', '4位']].sort_values('ポイント',ascending=False)"
   ]
  },
  {
   "cell_type": "code",
   "execution_count": 52,
   "id": "b8e7f7f0",
   "metadata": {},
   "outputs": [
    {
     "data": {
      "image/png": "[encoded data removed]",
      "text/plain": [
       "<Figure size 432x288 with 1 Axes>"
      ]
     },
     "metadata": {
      "needs_background": "light"
     },
     "output_type": "display_data"
    }
   ],
   "source": [
    "mdf[['ポイント']].sort_values('ポイント').plot(kind='barh',color = 'orange')\n",
    "plt.grid()\n",
    "plt.savefig(img_dir + '/team_point.png')"
   ]
  },
  {
   "cell_type": "markdown",
   "id": "162d251e",
   "metadata": {},
   "source": [
    "# 4. ベストスコア <a class=\"anchor\" id=\"4\"></a>\n",
    "ベストスコアは５８３００のセガサミーです。  \n",
    "大きいトップがないファイナルでとてもしまった試合が多かったように思えます。  \n",
    "サクラナイツはベストスコア最下位と粘って勝ったことが伺えます。"
   ]
  },
  {
   "cell_type": "code",
   "execution_count": 45,
   "id": "0236cc1a",
   "metadata": {},
   "outputs": [
    {
     "data": {
      "text/html": [
       "<div>\n",
       "<style scoped>\n",
       "    .dataframe tbody tr th:only-of-type {\n",
       "        vertical-align: middle;\n",
       "    }\n",
       "\n",
       "    .dataframe tbody tr th {\n",
       "        vertical-align: top;\n",
       "    }\n",
       "\n",
       "    .dataframe thead th {\n",
       "        text-align: right;\n",
       "    }\n",
       "</style>\n",
       "<table border=\"1\" class=\"dataframe\">\n",
       "  <thead>\n",
       "    <tr style=\"text-align: right;\">\n",
       "      <th>選手名</th>\n",
       "      <th>ベストスコア</th>\n",
       "    </tr>\n",
       "    <tr>\n",
       "      <th>チーム</th>\n",
       "      <th></th>\n",
       "    </tr>\n",
       "  </thead>\n",
       "  <tbody>\n",
       "    <tr>\n",
       "      <th>sega_summy</th>\n",
       "      <td>58300.0</td>\n",
       "    </tr>\n",
       "    <tr>\n",
       "      <th>abemas</th>\n",
       "      <td>51400.0</td>\n",
       "    </tr>\n",
       "    <tr>\n",
       "      <th>konami</th>\n",
       "      <td>47100.0</td>\n",
       "    </tr>\n",
       "    <tr>\n",
       "      <th>sakura</th>\n",
       "      <td>47000.0</td>\n",
       "    </tr>\n",
       "  </tbody>\n",
       "</table>\n",
       "</div>"
      ],
      "text/plain": [
       "選手名          ベストスコア\n",
       "チーム                \n",
       "sega_summy  58300.0\n",
       "abemas      51400.0\n",
       "konami      47100.0\n",
       "sakura      47000.0"
      ]
     },
     "execution_count": 45,
     "metadata": {},
     "output_type": "execute_result"
    }
   ],
   "source": [
    "df[['チーム','ベストスコア']].groupby('チーム').max().sort_values('ベストスコア',ascending = False)"
   ]
  },
  {
   "cell_type": "code",
   "execution_count": 46,
   "id": "55f632c7",
   "metadata": {},
   "outputs": [
    {
     "data": {
      "image/png": "[encoded data removed]",
      "text/plain": [
       "<Figure size 504x360 with 1 Axes>"
      ]
     },
     "metadata": {
      "needs_background": "light"
     },
     "output_type": "display_data"
    }
   ],
   "source": [
    "df[['チーム','ベストスコア']].groupby('チーム').max().plot(kind='bar',color='lime',figsize=(7,5))\n",
    "plt.savefig(img_dir + '/best_score.png')"
   ]
  },
  {
   "cell_type": "markdown",
   "id": "13ac7865",
   "metadata": {},
   "source": [
    "# 5. 順位回数 <a class=\"anchor\" id=\"5\"></a>\n",
    "着順回数はコナミが4着が多い形になりました。  \n",
    "そのほかのチームはほぼ同じような成績で本当にどこが優勝してもおかしくないファイナルでした。  \n",
    "しかも、最終戦の最終局まで決まらない、ワンチャンabemasの大逆転もあるのでは？と思わせる展開でした。  \n",
    "ドラマあるファイナルでした。"
   ]
  },
  {
   "cell_type": "code",
   "execution_count": 47,
   "id": "eb27f21d",
   "metadata": {},
   "outputs": [
    {
     "data": {
      "image/png": "[encoded data removed]",
      "text/plain": [
       "<Figure size 504x360 with 1 Axes>"
      ]
     },
     "metadata": {
      "needs_background": "light"
     },
     "output_type": "display_data"
    }
   ],
   "source": [
    "mdf[['1位', '2位', '3位', '4位']].plot(kind='bar',figsize=(7,5))\n",
    "plt.savefig(img_dir + '/rank.png')"
   ]
  },
  {
   "cell_type": "markdown",
   "id": "21a1bfb6",
   "metadata": {},
   "source": [
    "# 6. アガリ率と放銃率 <a class=\"anchor\" id=\"6\"></a>\n",
    "アガリ率と放銃率の分布です。  \n",
    "サクラナイツがアガリ率も放銃率も一番低いです。  \n",
    "苦しい戦いを耐え抜いたことがデータにも表れています。  \n",
    "コナミはアガれず放銃もしてしまったのがポイントを下げてしまいました。  \n",
    "しかし、１位を取るためにリスクを負わなければならないので、一概に悪いとも言えません。  \n",
    "この数値はひとつツモってアガるだけでも大きく変わります。  \n",
    "次回は勝負どころであがれることを期待したいところです。  \n"
   ]
  },
  {
   "cell_type": "code",
   "execution_count": 53,
   "id": "b6fb8db7",
   "metadata": {
    "scrolled": true
   },
   "outputs": [
    {
     "data": {
      "image/png": "[encoded data removed]",
      "text/plain": [
       "<Figure size 360x360 with 1 Axes>"
      ]
     },
     "metadata": {
      "needs_background": "light"
     },
     "output_type": "display_data"
    }
   ],
   "source": [
    "fig,ax = plt.subplots(figsize=(5,5))\n",
    "mean_df = df[['チーム','ベストスコア','トップ率', '連対率','平均打点','放銃平均打点',\n",
    "       'ラス回避率', '副露率', 'リーチ率', 'アガリ率', '放銃率']].groupby('チーム').mean()\n",
    "sns.scatterplot(data=mean_df,x = '放銃率',y='アガリ率',hue='チーム')\n",
    "for x, y, name in zip(mean_df['放銃率'], mean_df['アガリ率'], mean_df.index):\n",
    "    plt.text(x, y, name)\n",
    "plt.grid()\n",
    "plt.savefig(img_dir + '/agari_houju.png')"
   ]
  },
  {
   "cell_type": "markdown",
   "id": "1e709ae3",
   "metadata": {},
   "source": [
    "# 7. 平均打点と放銃平均打点 <a class=\"anchor\" id=\"7\"></a>\n",
    "平均打点、平均放銃打点両方とも最も低いのがサクラナイツです。  \n",
    "セミファイナルまでのポイントを活かして最後まで耐え抜いたことが伺えます。  \n",
    "コナミ、セガサミーは平均打点、平均法十打点も大きく、勝負に行ったことがわかります。  "
   ]
  },
  {
   "cell_type": "code",
   "execution_count": 49,
   "id": "ff84243b",
   "metadata": {},
   "outputs": [
    {
     "data": {
      "image/png": "[encoded data removed]",
      "text/plain": [
       "<Figure size 360x360 with 1 Axes>"
      ]
     },
     "metadata": {
      "needs_background": "light"
     },
     "output_type": "display_data"
    }
   ],
   "source": [
    "fig,ax = plt.subplots(figsize=(5,5))\n",
    "sns.scatterplot(data=mean_df,x = '放銃平均打点',y='平均打点',hue='チーム')\n",
    "for x, y, name in zip(mean_df['放銃平均打点'], mean_df['平均打点'], mean_df.index):\n",
    "    plt.text(x, y, name)\n",
    "plt.grid()\n",
    "plt.savefig(img_dir + '/ave_point.png')"
   ]
  },
  {
   "cell_type": "markdown",
   "id": "7cb6a200",
   "metadata": {},
   "source": [
    "# 8. さいごに <a class=\"anchor\" id=\"8\"></a>\n",
    "Mリーグ２０２１がついに終わりました。  \n",
    "今年はサクラナイツが初優勝しました。  \n",
    "来シーズンはどこが優勝するのか！？  \n",
    "Mリーグ２０２２も楽しみです。"
   ]
  },
  {
   "cell_type": "code",
   "execution_count": null,
   "id": "c94c7460",
   "metadata": {},
   "outputs": [],
   "source": []
  }
 ],
 "metadata": {
  "kernelspec": {
   "display_name": "Python 3 (ipykernel)",
   "language": "python",
   "name": "python3"
  },
  "language_info": {
   "codemirror_mode": {
    "name": "ipython",
    "version": 3
   },
   "file_extension": ".py",
   "mimetype": "text/x-python",
   "name": "python",
   "nbconvert_exporter": "python",
   "pygments_lexer": "ipython3",
   "version": "3.9.13"
  }
 },
 "nbformat": 4,
 "nbformat_minor": 5
}
